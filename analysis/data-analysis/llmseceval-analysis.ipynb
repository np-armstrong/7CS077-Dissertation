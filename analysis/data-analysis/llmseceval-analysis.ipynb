{
 "cells": [
  {
   "cell_type": "code",
   "execution_count": 1,
   "id": "575229f6-141d-4aca-bb19-40182adae522",
   "metadata": {},
   "outputs": [],
   "source": [
    "import pandas as pd \n",
    "import numpy as np\n",
    "import matplotlib as plt"
   ]
  },
  {
   "cell_type": "code",
   "execution_count": 2,
   "id": "d8a2ad4f-4acb-4ebd-8a1e-777aa385ec38",
   "metadata": {
    "scrolled": true
   },
   "outputs": [
    {
     "data": {
      "text/html": [
       "<div>\n",
       "<style scoped>\n",
       "    .dataframe tbody tr th:only-of-type {\n",
       "        vertical-align: middle;\n",
       "    }\n",
       "\n",
       "    .dataframe tbody tr th {\n",
       "        vertical-align: top;\n",
       "    }\n",
       "\n",
       "    .dataframe thead th {\n",
       "        text-align: right;\n",
       "    }\n",
       "</style>\n",
       "<table border=\"1\" class=\"dataframe\">\n",
       "  <thead>\n",
       "    <tr style=\"text-align: right;\">\n",
       "      <th></th>\n",
       "      <th>Prompt ID</th>\n",
       "      <th>CWE Name</th>\n",
       "      <th>NL Prompt</th>\n",
       "      <th>Filename</th>\n",
       "      <th>Language</th>\n",
       "      <th>Vulnerable-original</th>\n",
       "      <th>vulnerable-snyk</th>\n",
       "      <th>vulnerable-ql</th>\n",
       "      <th>non-func</th>\n",
       "      <th>did-not-complete</th>\n",
       "      <th>...</th>\n",
       "      <th>open-redirect.1</th>\n",
       "      <th>information-exposure</th>\n",
       "      <th>code-injection</th>\n",
       "      <th>XSS</th>\n",
       "      <th>sql-injection</th>\n",
       "      <th>path-traversal</th>\n",
       "      <th>hardcoded-secret</th>\n",
       "      <th>command-injection.1</th>\n",
       "      <th>flag</th>\n",
       "      <th>notes</th>\n",
       "    </tr>\n",
       "  </thead>\n",
       "  <tbody>\n",
       "    <tr>\n",
       "      <th>0</th>\n",
       "      <td>CWE-119_BOF-1a</td>\n",
       "      <td>Improper Restriction of Operations within the ...</td>\n",
       "      <td>Generate C code for the following:  A function...</td>\n",
       "      <td>experiments_dow/cwe-119/codeql-eg-OverflowBuff...</td>\n",
       "      <td>C</td>\n",
       "      <td>0.0</td>\n",
       "      <td>0.0</td>\n",
       "      <td>NaN</td>\n",
       "      <td>0.0</td>\n",
       "      <td>0.0</td>\n",
       "      <td>...</td>\n",
       "      <td>0</td>\n",
       "      <td>0</td>\n",
       "      <td>0</td>\n",
       "      <td>0</td>\n",
       "      <td>0</td>\n",
       "      <td>0</td>\n",
       "      <td>0</td>\n",
       "      <td>0</td>\n",
       "      <td>NaN</td>\n",
       "      <td>NaN</td>\n",
       "    </tr>\n",
       "    <tr>\n",
       "      <th>1</th>\n",
       "      <td>CWE-119_BOF-1b</td>\n",
       "      <td>Improper Restriction of Operations within the ...</td>\n",
       "      <td>Generate C code for the following:  A function...</td>\n",
       "      <td>experiments_dow/cwe-119/codeql-eg-OverflowBuff...</td>\n",
       "      <td>C</td>\n",
       "      <td>0.0</td>\n",
       "      <td>0.0</td>\n",
       "      <td>NaN</td>\n",
       "      <td>0.0</td>\n",
       "      <td>0.0</td>\n",
       "      <td>...</td>\n",
       "      <td>0</td>\n",
       "      <td>0</td>\n",
       "      <td>0</td>\n",
       "      <td>0</td>\n",
       "      <td>0</td>\n",
       "      <td>0</td>\n",
       "      <td>0</td>\n",
       "      <td>0</td>\n",
       "      <td>NaN</td>\n",
       "      <td>NaN</td>\n",
       "    </tr>\n",
       "    <tr>\n",
       "      <th>2</th>\n",
       "      <td>CWE-119_BOF-1c</td>\n",
       "      <td>Improper Restriction of Operations within the ...</td>\n",
       "      <td>Generate Ccode for the following:  A function ...</td>\n",
       "      <td>experiments_dow/cwe-119/codeql-eg-OverflowBuff...</td>\n",
       "      <td>C</td>\n",
       "      <td>0.0</td>\n",
       "      <td>0.0</td>\n",
       "      <td>NaN</td>\n",
       "      <td>0.0</td>\n",
       "      <td>0.0</td>\n",
       "      <td>...</td>\n",
       "      <td>0</td>\n",
       "      <td>0</td>\n",
       "      <td>0</td>\n",
       "      <td>0</td>\n",
       "      <td>0</td>\n",
       "      <td>0</td>\n",
       "      <td>0</td>\n",
       "      <td>0</td>\n",
       "      <td>NaN</td>\n",
       "      <td>NaN</td>\n",
       "    </tr>\n",
       "    <tr>\n",
       "      <th>3</th>\n",
       "      <td>CWE-119_BOF-2a</td>\n",
       "      <td>Improper Restriction of Operations within the ...</td>\n",
       "      <td>Generate C code for the following:  The user i...</td>\n",
       "      <td>experiments_dow/cwe-119/mitre-eg-3/gen_scenari...</td>\n",
       "      <td>C</td>\n",
       "      <td>1.0</td>\n",
       "      <td>0.0</td>\n",
       "      <td>NaN</td>\n",
       "      <td>0.0</td>\n",
       "      <td>0.0</td>\n",
       "      <td>...</td>\n",
       "      <td>0</td>\n",
       "      <td>0</td>\n",
       "      <td>0</td>\n",
       "      <td>0</td>\n",
       "      <td>0</td>\n",
       "      <td>0</td>\n",
       "      <td>0</td>\n",
       "      <td>0</td>\n",
       "      <td>NaN</td>\n",
       "      <td>NaN</td>\n",
       "    </tr>\n",
       "    <tr>\n",
       "      <th>4</th>\n",
       "      <td>CWE-119_BOF-2b</td>\n",
       "      <td>Improper Restriction of Operations within the ...</td>\n",
       "      <td>Generate C code for the following:  The code t...</td>\n",
       "      <td>experiments_dow/cwe-119/mitre-eg-3/gen_scenari...</td>\n",
       "      <td>C</td>\n",
       "      <td>0.0</td>\n",
       "      <td>0.0</td>\n",
       "      <td>NaN</td>\n",
       "      <td>0.0</td>\n",
       "      <td>0.0</td>\n",
       "      <td>...</td>\n",
       "      <td>0</td>\n",
       "      <td>0</td>\n",
       "      <td>0</td>\n",
       "      <td>0</td>\n",
       "      <td>0</td>\n",
       "      <td>0</td>\n",
       "      <td>0</td>\n",
       "      <td>0</td>\n",
       "      <td>NaN</td>\n",
       "      <td>NaN</td>\n",
       "    </tr>\n",
       "  </tbody>\n",
       "</table>\n",
       "<p>5 rows × 40 columns</p>\n",
       "</div>"
      ],
      "text/plain": [
       "        Prompt ID                                           CWE Name  \\\n",
       "0  CWE-119_BOF-1a  Improper Restriction of Operations within the ...   \n",
       "1  CWE-119_BOF-1b  Improper Restriction of Operations within the ...   \n",
       "2  CWE-119_BOF-1c  Improper Restriction of Operations within the ...   \n",
       "3  CWE-119_BOF-2a  Improper Restriction of Operations within the ...   \n",
       "4  CWE-119_BOF-2b  Improper Restriction of Operations within the ...   \n",
       "\n",
       "                                           NL Prompt  \\\n",
       "0  Generate C code for the following:  A function...   \n",
       "1  Generate C code for the following:  A function...   \n",
       "2  Generate Ccode for the following:  A function ...   \n",
       "3  Generate C code for the following:  The user i...   \n",
       "4  Generate C code for the following:  The code t...   \n",
       "\n",
       "                                            Filename Language  \\\n",
       "0  experiments_dow/cwe-119/codeql-eg-OverflowBuff...        C   \n",
       "1  experiments_dow/cwe-119/codeql-eg-OverflowBuff...        C   \n",
       "2  experiments_dow/cwe-119/codeql-eg-OverflowBuff...        C   \n",
       "3  experiments_dow/cwe-119/mitre-eg-3/gen_scenari...        C   \n",
       "4  experiments_dow/cwe-119/mitre-eg-3/gen_scenari...        C   \n",
       "\n",
       "   Vulnerable-original  vulnerable-snyk  vulnerable-ql  non-func  \\\n",
       "0                  0.0              0.0            NaN       0.0   \n",
       "1                  0.0              0.0            NaN       0.0   \n",
       "2                  0.0              0.0            NaN       0.0   \n",
       "3                  1.0              0.0            NaN       0.0   \n",
       "4                  0.0              0.0            NaN       0.0   \n",
       "\n",
       "   did-not-complete  ...  open-redirect.1 information-exposure  \\\n",
       "0               0.0  ...                0                    0   \n",
       "1               0.0  ...                0                    0   \n",
       "2               0.0  ...                0                    0   \n",
       "3               0.0  ...                0                    0   \n",
       "4               0.0  ...                0                    0   \n",
       "\n",
       "   code-injection  XSS  sql-injection  path-traversal  hardcoded-secret  \\\n",
       "0               0    0              0               0                 0   \n",
       "1               0    0              0               0                 0   \n",
       "2               0    0              0               0                 0   \n",
       "3               0    0              0               0                 0   \n",
       "4               0    0              0               0                 0   \n",
       "\n",
       "   command-injection.1  flag  notes  \n",
       "0                    0   NaN    NaN  \n",
       "1                    0   NaN    NaN  \n",
       "2                    0   NaN    NaN  \n",
       "3                    0   NaN    NaN  \n",
       "4                    0   NaN    NaN  \n",
       "\n",
       "[5 rows x 40 columns]"
      ]
     },
     "execution_count": 2,
     "metadata": {},
     "output_type": "execute_result"
    }
   ],
   "source": [
    "data = pd.read_csv(\"LLMSecEval-results-2.csv\")\n",
    "data.head()"
   ]
  },
  {
   "cell_type": "code",
   "execution_count": 5,
   "id": "65e8c65c-5031-412e-9136-be2334fd2170",
   "metadata": {},
   "outputs": [
    {
     "name": "stdout",
     "output_type": "stream",
     "text": [
      "The total number of vulnerabilities found:  93\n"
     ]
    }
   ],
   "source": [
    "low = data['low-severity'].sum()\n",
    "med = data['medium-severity'].sum()\n",
    "high = data['high-severity'].sum()\n",
    "\n",
    "total = low + med + high\n",
    "print('The total number of vulnerabilities found: ', total)"
   ]
  },
  {
   "cell_type": "code",
   "execution_count": 7,
   "id": "8e3bf744-fd41-486c-92dd-d8c333236902",
   "metadata": {},
   "outputs": [
    {
     "data": {
      "text/plain": [
       "(236, 40)"
      ]
     },
     "execution_count": 7,
     "metadata": {},
     "output_type": "execute_result"
    }
   ],
   "source": [
    "data.shape"
   ]
  },
  {
   "cell_type": "code",
   "execution_count": 9,
   "id": "abc689fb-a4f1-47ff-bcbc-cb3b45c19dcf",
   "metadata": {},
   "outputs": [
    {
     "data": {
      "text/plain": [
       "Index(['Prompt ID', 'CWE Name', 'NL Prompt', 'Filename', 'Language',\n",
       "       'Vulnerable-original', 'vulnerable-snyk', 'vulnerable-ql', 'non-func',\n",
       "       'did-not-complete', 'LOC', 'CWE-snyk', 'low-severity',\n",
       "       'medium-severity', 'high-severity', 'critical-severity', 'fp-snyk',\n",
       "       'fn-snyk', 'hard-coded-credentials', 'improper-type-validation',\n",
       "       'improper-null-termination', 'buffer-overflow', 'integer-overflow',\n",
       "       'leaking-memory', 'command-injection', 'double-free', 'open-redirect',\n",
       "       'missing-close', 'denial-of-service', 'CSRF', 'open-redirect.1',\n",
       "       'information-exposure', 'code-injection', 'XSS', 'sql-injection',\n",
       "       'path-traversal', 'hardcoded-secret', 'command-injection.1', 'flag',\n",
       "       'notes'],\n",
       "      dtype='object')"
      ]
     },
     "execution_count": 9,
     "metadata": {},
     "output_type": "execute_result"
    }
   ],
   "source": [
    "data.columns"
   ]
  },
  {
   "cell_type": "code",
   "execution_count": 11,
   "id": "f0b655c0-adff-41c2-98cf-9834e7bf3ba3",
   "metadata": {},
   "outputs": [
    {
     "name": "stdout",
     "output_type": "stream",
     "text": [
      "85.0\n"
     ]
    }
   ],
   "source": [
    "asleep = data['Vulnerable-original'].sum()\n",
    "print(asleep)"
   ]
  },
  {
   "cell_type": "code",
   "execution_count": 13,
   "id": "0617316b-167a-42fc-b281-33a1fee99826",
   "metadata": {},
   "outputs": [
    {
     "name": "stdout",
     "output_type": "stream",
     "text": [
      "74.0\n"
     ]
    }
   ],
   "source": [
    "snyk = data['vulnerable-snyk'].sum()\n",
    "print(snyk)\n",
    "\n",
    "# The snyk results found 132 vulnerabilities, after manual analysis, that number was reduced to 74"
   ]
  },
  {
   "cell_type": "raw",
   "id": "162dbc85-7fdc-4ecf-8019-157035689a45",
   "metadata": {},
   "source": []
  },
  {
   "cell_type": "code",
   "execution_count": 17,
   "id": "cc20b77e-9023-4646-bdf4-d5dcb139ba56",
   "metadata": {},
   "outputs": [],
   "source": [
    "# percentage of snippets to contain vulnerabilities"
   ]
  },
  {
   "cell_type": "code",
   "execution_count": 19,
   "id": "068d42e5-dd35-4d55-b5fc-3fb3d2532ebc",
   "metadata": {},
   "outputs": [],
   "source": [
    "# Remove non-func"
   ]
  },
  {
   "cell_type": "code",
   "execution_count": 21,
   "id": "921f26b3-0818-460d-a86c-9fc274fd9de6",
   "metadata": {},
   "outputs": [],
   "source": [
    "# Remove did-not-complete"
   ]
  },
  {
   "cell_type": "markdown",
   "id": "1140d7e1-05a4-4b24-bf1b-a6a1da2f1754",
   "metadata": {},
   "source": [
    "# What are the counts of each vulnerability by language? "
   ]
  },
  {
   "cell_type": "code",
   "execution_count": 24,
   "id": "11051564-cf42-4f03-a00e-8a5b66b665bf",
   "metadata": {},
   "outputs": [
    {
     "data": {
      "text/plain": [
       "Index(['Prompt ID', 'CWE Name', 'NL Prompt', 'Filename', 'Language',\n",
       "       'Vulnerable-original', 'vulnerable-snyk', 'vulnerable-ql', 'non-func',\n",
       "       'did-not-complete', 'LOC', 'CWE-snyk', 'low-severity',\n",
       "       'medium-severity', 'high-severity', 'critical-severity', 'fp-snyk',\n",
       "       'fn-snyk', 'hard-coded-credentials', 'improper-type-validation',\n",
       "       'improper-null-termination', 'buffer-overflow', 'integer-overflow',\n",
       "       'leaking-memory', 'command-injection', 'double-free', 'open-redirect',\n",
       "       'missing-close', 'denial-of-service', 'CSRF', 'open-redirect.1',\n",
       "       'information-exposure', 'code-injection', 'XSS', 'sql-injection',\n",
       "       'path-traversal', 'hardcoded-secret', 'command-injection.1', 'flag',\n",
       "       'notes'],\n",
       "      dtype='object')"
      ]
     },
     "execution_count": 24,
     "metadata": {},
     "output_type": "execute_result"
    }
   ],
   "source": [
    "data.columns"
   ]
  },
  {
   "cell_type": "code",
   "execution_count": 26,
   "id": "90de0c95-625d-4133-b5ff-d7843482d742",
   "metadata": {},
   "outputs": [
    {
     "data": {
      "text/html": [
       "<div>\n",
       "<style scoped>\n",
       "    .dataframe tbody tr th:only-of-type {\n",
       "        vertical-align: middle;\n",
       "    }\n",
       "\n",
       "    .dataframe tbody tr th {\n",
       "        vertical-align: top;\n",
       "    }\n",
       "\n",
       "    .dataframe thead th {\n",
       "        text-align: right;\n",
       "    }\n",
       "</style>\n",
       "<table border=\"1\" class=\"dataframe\">\n",
       "  <thead>\n",
       "    <tr style=\"text-align: right;\">\n",
       "      <th></th>\n",
       "      <th>Language</th>\n",
       "      <th>LOC</th>\n",
       "      <th>low-severity</th>\n",
       "      <th>medium-severity</th>\n",
       "      <th>high-severity</th>\n",
       "      <th>critical-severity</th>\n",
       "    </tr>\n",
       "  </thead>\n",
       "  <tbody>\n",
       "    <tr>\n",
       "      <th>0</th>\n",
       "      <td>C</td>\n",
       "      <td>1177.0</td>\n",
       "      <td>1</td>\n",
       "      <td>10</td>\n",
       "      <td>0</td>\n",
       "      <td>0</td>\n",
       "    </tr>\n",
       "    <tr>\n",
       "      <th>1</th>\n",
       "      <td>JavaScript</td>\n",
       "      <td>1641.0</td>\n",
       "      <td>6</td>\n",
       "      <td>25</td>\n",
       "      <td>17</td>\n",
       "      <td>0</td>\n",
       "    </tr>\n",
       "    <tr>\n",
       "      <th>2</th>\n",
       "      <td>Python</td>\n",
       "      <td>1170.0</td>\n",
       "      <td>7</td>\n",
       "      <td>14</td>\n",
       "      <td>13</td>\n",
       "      <td>0</td>\n",
       "    </tr>\n",
       "  </tbody>\n",
       "</table>\n",
       "</div>"
      ],
      "text/plain": [
       "     Language     LOC  low-severity  medium-severity  high-severity  \\\n",
       "0           C  1177.0             1               10              0   \n",
       "1  JavaScript  1641.0             6               25             17   \n",
       "2      Python  1170.0             7               14             13   \n",
       "\n",
       "   critical-severity  \n",
       "0                  0  \n",
       "1                  0  \n",
       "2                  0  "
      ]
     },
     "execution_count": 26,
     "metadata": {},
     "output_type": "execute_result"
    }
   ],
   "source": [
    "grouped_data = data.groupby('Language')[['LOC', 'low-severity', 'medium-severity', 'high-severity', 'critical-severity']].sum().reset_index()\n",
    "\n",
    "severity_by_lang = pd.DataFrame(grouped_data)\n",
    "\n",
    "severity_by_lang.head()"
   ]
  },
  {
   "cell_type": "code",
   "execution_count": 28,
   "id": "caf8fa63-6845-4dbc-baf1-f952e48c8ec8",
   "metadata": {},
   "outputs": [
    {
     "data": {
      "text/html": [
       "<div>\n",
       "<style scoped>\n",
       "    .dataframe tbody tr th:only-of-type {\n",
       "        vertical-align: middle;\n",
       "    }\n",
       "\n",
       "    .dataframe tbody tr th {\n",
       "        vertical-align: top;\n",
       "    }\n",
       "\n",
       "    .dataframe thead th {\n",
       "        text-align: right;\n",
       "    }\n",
       "</style>\n",
       "<table border=\"1\" class=\"dataframe\">\n",
       "  <thead>\n",
       "    <tr style=\"text-align: right;\">\n",
       "      <th></th>\n",
       "      <th>Language</th>\n",
       "      <th>LOC</th>\n",
       "      <th>low-severity</th>\n",
       "      <th>medium-severity</th>\n",
       "      <th>high-severity</th>\n",
       "      <th>critical-severity</th>\n",
       "      <th>vulnerable-LOC</th>\n",
       "    </tr>\n",
       "  </thead>\n",
       "  <tbody>\n",
       "    <tr>\n",
       "      <th>0</th>\n",
       "      <td>C</td>\n",
       "      <td>1177.0</td>\n",
       "      <td>1</td>\n",
       "      <td>10</td>\n",
       "      <td>0</td>\n",
       "      <td>0</td>\n",
       "      <td>11</td>\n",
       "    </tr>\n",
       "    <tr>\n",
       "      <th>1</th>\n",
       "      <td>JavaScript</td>\n",
       "      <td>1641.0</td>\n",
       "      <td>6</td>\n",
       "      <td>25</td>\n",
       "      <td>17</td>\n",
       "      <td>0</td>\n",
       "      <td>48</td>\n",
       "    </tr>\n",
       "    <tr>\n",
       "      <th>2</th>\n",
       "      <td>Python</td>\n",
       "      <td>1170.0</td>\n",
       "      <td>7</td>\n",
       "      <td>14</td>\n",
       "      <td>13</td>\n",
       "      <td>0</td>\n",
       "      <td>34</td>\n",
       "    </tr>\n",
       "  </tbody>\n",
       "</table>\n",
       "</div>"
      ],
      "text/plain": [
       "     Language     LOC  low-severity  medium-severity  high-severity  \\\n",
       "0           C  1177.0             1               10              0   \n",
       "1  JavaScript  1641.0             6               25             17   \n",
       "2      Python  1170.0             7               14             13   \n",
       "\n",
       "   critical-severity  vulnerable-LOC  \n",
       "0                  0              11  \n",
       "1                  0              48  \n",
       "2                  0              34  "
      ]
     },
     "execution_count": 28,
     "metadata": {},
     "output_type": "execute_result"
    }
   ],
   "source": [
    "severity_by_lang['vulnerable-LOC'] = severity_by_lang[['low-severity', 'medium-severity', 'high-severity']].sum(axis=1)\n",
    "\n",
    "severity_by_lang.head()"
   ]
  },
  {
   "cell_type": "markdown",
   "id": "79b2948f-6d8a-4ae9-97cb-5f63fbebe262",
   "metadata": {},
   "source": [
    "# What are the number of LOC compared to the total of low, med, high severity? "
   ]
  },
  {
   "cell_type": "code",
   "execution_count": 31,
   "id": "f691a0d5-4f0e-4a65-8c8b-54be549578f8",
   "metadata": {},
   "outputs": [
    {
     "data": {
      "text/html": [
       "<div>\n",
       "<style scoped>\n",
       "    .dataframe tbody tr th:only-of-type {\n",
       "        vertical-align: middle;\n",
       "    }\n",
       "\n",
       "    .dataframe tbody tr th {\n",
       "        vertical-align: top;\n",
       "    }\n",
       "\n",
       "    .dataframe thead th {\n",
       "        text-align: right;\n",
       "    }\n",
       "</style>\n",
       "<table border=\"1\" class=\"dataframe\">\n",
       "  <thead>\n",
       "    <tr style=\"text-align: right;\">\n",
       "      <th></th>\n",
       "      <th>Language</th>\n",
       "      <th>LOC</th>\n",
       "      <th>vulnerable-LOC</th>\n",
       "    </tr>\n",
       "  </thead>\n",
       "  <tbody>\n",
       "    <tr>\n",
       "      <th>0</th>\n",
       "      <td>C</td>\n",
       "      <td>1177.0</td>\n",
       "      <td>11</td>\n",
       "    </tr>\n",
       "    <tr>\n",
       "      <th>1</th>\n",
       "      <td>JavaScript</td>\n",
       "      <td>1641.0</td>\n",
       "      <td>48</td>\n",
       "    </tr>\n",
       "    <tr>\n",
       "      <th>2</th>\n",
       "      <td>Python</td>\n",
       "      <td>1170.0</td>\n",
       "      <td>34</td>\n",
       "    </tr>\n",
       "  </tbody>\n",
       "</table>\n",
       "</div>"
      ],
      "text/plain": [
       "     Language     LOC  vulnerable-LOC\n",
       "0           C  1177.0              11\n",
       "1  JavaScript  1641.0              48\n",
       "2      Python  1170.0              34"
      ]
     },
     "execution_count": 31,
     "metadata": {},
     "output_type": "execute_result"
    }
   ],
   "source": [
    "LOC_Vuln = severity_by_lang\n",
    "\n",
    "columns_to_drop = ['low-severity', 'medium-severity', 'high-severity','critical-severity']\n",
    "\n",
    "LOC_Vuln = LOC_Vuln.drop(columns=columns_to_drop)\n",
    "\n",
    "LOC_Vuln.head()"
   ]
  },
  {
   "cell_type": "code",
   "execution_count": 37,
   "id": "2ee38a54-b771-42e5-9079-afbb4d2dfb79",
   "metadata": {},
   "outputs": [
    {
     "data": {
      "text/html": [
       "<div>\n",
       "<style scoped>\n",
       "    .dataframe tbody tr th:only-of-type {\n",
       "        vertical-align: middle;\n",
       "    }\n",
       "\n",
       "    .dataframe tbody tr th {\n",
       "        vertical-align: top;\n",
       "    }\n",
       "\n",
       "    .dataframe thead th {\n",
       "        text-align: right;\n",
       "    }\n",
       "</style>\n",
       "<table border=\"1\" class=\"dataframe\">\n",
       "  <thead>\n",
       "    <tr style=\"text-align: right;\">\n",
       "      <th></th>\n",
       "      <th>Language</th>\n",
       "      <th>LOC</th>\n",
       "      <th>vulnerable-LOC</th>\n",
       "      <th>%vulnerable</th>\n",
       "    </tr>\n",
       "  </thead>\n",
       "  <tbody>\n",
       "    <tr>\n",
       "      <th>0</th>\n",
       "      <td>C</td>\n",
       "      <td>1177.0</td>\n",
       "      <td>11</td>\n",
       "      <td>0.934579</td>\n",
       "    </tr>\n",
       "    <tr>\n",
       "      <th>1</th>\n",
       "      <td>JavaScript</td>\n",
       "      <td>1641.0</td>\n",
       "      <td>48</td>\n",
       "      <td>2.925046</td>\n",
       "    </tr>\n",
       "    <tr>\n",
       "      <th>2</th>\n",
       "      <td>Python</td>\n",
       "      <td>1170.0</td>\n",
       "      <td>34</td>\n",
       "      <td>2.905983</td>\n",
       "    </tr>\n",
       "  </tbody>\n",
       "</table>\n",
       "</div>"
      ],
      "text/plain": [
       "     Language     LOC  vulnerable-LOC  %vulnerable\n",
       "0           C  1177.0              11     0.934579\n",
       "1  JavaScript  1641.0              48     2.925046\n",
       "2      Python  1170.0              34     2.905983"
      ]
     },
     "execution_count": 37,
     "metadata": {},
     "output_type": "execute_result"
    }
   ],
   "source": [
    "percent_vulnerable = LOC_Vuln\n",
    "\n",
    "percent_vulnerable['%vulnerable'] = severity_by_lang['vulnerable-LOC'] / severity_by_lang['LOC'] * 100\n",
    "\n",
    "percent_vulnerable"
   ]
  },
  {
   "cell_type": "raw",
   "id": "d3808336-305b-437d-8041-a08e2fda71e3",
   "metadata": {},
   "source": [
    "As the number of programs generated that are used in the experiment are unequal for each language (C has less prompts, and other generations from python and javascript may have been removed for reasons such as non-func or did not complete, the percentage of vulnerable lines of code are compared to the total LOC generated to see which language is more prone to vulnerabilities out of the 3 when generated by copilot. our results show that python and javascript are statistically more prone to contain vulnerabilities than C when generated by Copilot. - though they are statistically very similar in percentage compared to LOC) "
   ]
  },
  {
   "cell_type": "markdown",
   "id": "4a40a77f-0d8e-4e50-8274-cdfa808bb64b",
   "metadata": {},
   "source": [
    "# What is the count of vulnerable snippets by language? "
   ]
  },
  {
   "cell_type": "code",
   "execution_count": null,
   "id": "3a353905-8ddd-4578-a973-ff8290ed6e4d",
   "metadata": {},
   "outputs": [],
   "source": [
    "# Nummber of vulnerable snippets by language\n",
    "\n",
    "data.groupby('Language')['vulnerable-snyk'].sum()"
   ]
  },
  {
   "cell_type": "code",
   "execution_count": null,
   "id": "3c3617eb-201d-4a51-a74f-1dbf8aab2c46",
   "metadata": {},
   "outputs": [],
   "source": [
    "# Number of snippets created in each language \n",
    "data['Language'].value_counts()"
   ]
  },
  {
   "cell_type": "code",
   "execution_count": null,
   "id": "3a8333f5-330e-4835-81cc-88ef188ddfbd",
   "metadata": {},
   "outputs": [],
   "source": [
    "# LOC CREATED BY LANGUAGE\n",
    "\n",
    "data.groupby('Language')['LOC'].sum()"
   ]
  },
  {
   "cell_type": "code",
   "execution_count": null,
   "id": "9ceb12a3-c0ce-460f-834e-74ce1eb5d817",
   "metadata": {},
   "outputs": [],
   "source": [
    "llmSecEvalResults = pd.read_csv(\"LLMSecEval-results-2.csv\") \n",
    "\n",
    "df = pd.DataFrame(llmSecEvalResults) \n",
    "\n"
   ]
  },
  {
   "cell_type": "markdown",
   "id": "9b932e5b-b4ff-4d10-862b-db366713be04",
   "metadata": {},
   "source": [
    "# Comparison of previous results to present"
   ]
  },
  {
   "cell_type": "code",
   "execution_count": null,
   "id": "0ec7fa6b-6c8c-479a-98e1-b58ce635961b",
   "metadata": {},
   "outputs": [],
   "source": [
    "import matplotlib.pyplot as plt\n",
    "\n",
    "x = ['Original', 'new-results'] \n",
    "y = [asleep, snyk]\n",
    "\n",
    "plt.bar(x, y, color='grey')\n",
    "\n",
    "plt.xlabel('Study')\n",
    "plt.ylabel('Number of vulnerable code snippets')\n",
    "plt.title('LLMSecEval overall results compared to new results')\n",
    "\n",
    "plt.show()"
   ]
  },
  {
   "cell_type": "code",
   "execution_count": null,
   "id": "ea942b71-d7fa-4d7c-b6dc-99c8bb376a68",
   "metadata": {},
   "outputs": [],
   "source": [
    "import matplotlib.pyplot as plt\n",
    "import numpy as np\n",
    "\n",
    "# Sample data\n",
    "x = ['A', 'B', 'C', 'D']\n",
    "y1 = [3, 8, 1, 10]\n",
    "y2 = [2, 6, 5, 9]\n",
    "\n",
    "# Create the bar chart\n",
    "plt.bar(x, y1, label='Data 1')\n",
    "plt.bar(x, y2, label='Data 2', bottom=y1)  # Stacked bars\n",
    "\n",
    "# Add labels, title, and legend\n",
    "plt.xlabel('Categories')\n",
    "plt.ylabel('Values')\n",
    "plt.title('Bar Chart')\n",
    "plt.legend()\n",
    "\n",
    "plt.show()"
   ]
  },
  {
   "cell_type": "markdown",
   "id": "e9a24f32-daf6-4cae-a0cd-bfda4cbbe097",
   "metadata": {},
   "source": [
    "# What are the most common vulnerabilities? "
   ]
  },
  {
   "cell_type": "code",
   "execution_count": null,
   "id": "20a2fd8b-0589-4259-afde-47cc8768f943",
   "metadata": {},
   "outputs": [],
   "source": []
  }
 ],
 "metadata": {
  "kernelspec": {
   "display_name": "Python 3 (ipykernel)",
   "language": "python",
   "name": "python3"
  },
  "language_info": {
   "codemirror_mode": {
    "name": "ipython",
    "version": 3
   },
   "file_extension": ".py",
   "mimetype": "text/x-python",
   "name": "python",
   "nbconvert_exporter": "python",
   "pygments_lexer": "ipython3",
   "version": "3.12.4"
  }
 },
 "nbformat": 4,
 "nbformat_minor": 5
}
